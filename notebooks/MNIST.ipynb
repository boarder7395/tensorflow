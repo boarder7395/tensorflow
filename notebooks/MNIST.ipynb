{
 "cells": [
  {
   "cell_type": "code",
   "execution_count": 1,
   "metadata": {},
   "outputs": [],
   "source": [
    "import os\n",
    "import tensorflow as tf\n",
    "import numpy as np\n",
    "import pandas as pd\n",
    "from scipy.misc import imread, toimage\n",
    "from sklearn.metrics import accuracy_score\n",
    "import gzip\n",
    "from mnist import MNIST\n",
    "from tk_package.utils.helper import dense_to_one_hot, preproc, batch_creator, show\n",
    "\n",
    "root_dir = os.path.dirname(os.path.dirname(os.path.abspath('__file__')))\n",
    "data_dir = os.path.join(root_dir, 'data')\n",
    "sub_dir = os.path.join(root_dir, 'sub')\n",
    "\n",
    "seed = 128\n",
    "rng = np.random.RandomState(seed)\n",
    "\n",
    "mndata = MNIST(data_dir)"
   ]
  },
  {
   "cell_type": "code",
   "execution_count": 2,
   "metadata": {},
   "outputs": [],
   "source": [
    "X_train, y_train = mndata.load_training()\n",
    "X_test, y_test = mndata.load_testing()"
   ]
  },
  {
   "cell_type": "code",
   "execution_count": 3,
   "metadata": {},
   "outputs": [],
   "source": [
    "X_train = np.array(X_train)\n",
    "X_test = np.array(X_test)\n",
    "y_train = np.array(y_train)\n",
    "y_test = np.array(y_test)"
   ]
  },
  {
   "cell_type": "code",
   "execution_count": 4,
   "metadata": {},
   "outputs": [],
   "source": [
    "split_size = int(len(X_train)*0.7)\n",
    "train_x, val_x = X_train[:split_size,:], X_train[split_size:,:]\n",
    "train_y, val_y = y_train[:split_size], y_train[split_size:]"
   ]
  },
  {
   "cell_type": "markdown",
   "metadata": {},
   "source": [
    "### set all variables"
   ]
  },
  {
   "cell_type": "code",
   "execution_count": 133,
   "metadata": {},
   "outputs": [],
   "source": [
    "\n",
    "# number of neurons in each layer\n",
    "input_num_units = 28*28\n",
    "hidden1_num_units = 20000\n",
    "# hidden2_num_units = 1000\n",
    "# hidden3_num_units = 500\n",
    "output_num_units = 10\n",
    "\n",
    "# define placeholders\n",
    "x = tf.placeholder(tf.float32, [None, input_num_units])\n",
    "y = tf.placeholder(tf.float32, [None, output_num_units])\n",
    "\n",
    "# set remaining variables\n",
    "epochs = 800\n",
    "batch_size = 128\n",
    "learning_rate = 0.01\n",
    "\n",
    "### define weights and biases of the neural network (refer this article if you don't understand the terminologies)\n",
    "\n",
    "weights = {\n",
    "    'hidden1': tf.Variable(tf.random_normal([input_num_units, hidden1_num_units], seed=seed)),\n",
    "    'hidden2': tf.Variable(tf.random_normal([hidden1_num_units, hidden2_num_units], seed=seed)),\n",
    "    'hidden3': tf.Variable(tf.random_normal([hidden2_num_units, hidden3_num_units], seed=seed)),\n",
    "    'output': tf.Variable(tf.random_normal([hidden1_num_units, output_num_units], seed=seed))\n",
    "}\n",
    "\n",
    "biases = {\n",
    "    'hidden1': tf.Variable(tf.random_normal([hidden1_num_units], seed=seed)),\n",
    "    'hidden2': tf.Variable(tf.random_normal([hidden2_num_units], seed=seed)),\n",
    "    'hidden3': tf.Variable(tf.random_normal([hidden3_num_units], seed=seed)),\n",
    "    'output': tf.Variable(tf.random_normal([output_num_units], seed=seed))\n",
    "}"
   ]
  },
  {
   "cell_type": "code",
   "execution_count": 134,
   "metadata": {},
   "outputs": [],
   "source": [
    "hidden_layer1 = tf.add(tf.matmul(x, weights['hidden1']), biases['hidden1'])\n",
    "hidden_layer1 = tf.nn.relu(hidden_layer1)\n",
    "\n",
    "# hidden_layer2 = tf.add(tf.matmul(hidden_layer1, weights['hidden2']), biases['hidden2'])\n",
    "# hidden_layer2 = tf.nn.relu(hidden_layer2)\n",
    "\n",
    "# hidden_layer3 = tf.add(tf.matmul(hidden_layer2, weights['hidden3']), biases['hidden3'])\n",
    "# hidden_layer3 = tf.nn.relu(hidden_layer3)\n",
    "\n",
    "output_layer = tf.matmul(hidden_layer1, weights['output']) + biases['output']"
   ]
  },
  {
   "cell_type": "code",
   "execution_count": 135,
   "metadata": {},
   "outputs": [],
   "source": [
    "cost = tf.reduce_mean(tf.nn.softmax_cross_entropy_with_logits(logits=output_layer, labels=y))"
   ]
  },
  {
   "cell_type": "code",
   "execution_count": 136,
   "metadata": {},
   "outputs": [],
   "source": [
    "optimizer = tf.train.AdamOptimizer(learning_rate=learning_rate).minimize(cost)"
   ]
  },
  {
   "cell_type": "code",
   "execution_count": 137,
   "metadata": {},
   "outputs": [],
   "source": [
    "init = tf.global_variables_initializer()"
   ]
  },
  {
   "cell_type": "code",
   "execution_count": 138,
   "metadata": {},
   "outputs": [
    {
     "name": "stdout",
     "output_type": "stream",
     "text": [
      "Running\n",
      "Epoch: 1 cost = 52824.58685\n",
      "Running\n",
      "Epoch: 11 cost = 1532.44092\n",
      "Running\n",
      "Epoch: 21 cost = 1404.54209\n",
      "Running\n",
      "Epoch: 31 cost = 775.15038\n",
      "Running\n",
      "Epoch: 41 cost = 720.77252\n",
      "Running\n",
      "Epoch: 51 cost = 271.80591\n",
      "Running\n",
      "Epoch: 61 cost = 603.08965\n",
      "Running\n",
      "Epoch: 71 cost = 506.35456\n",
      "Running\n",
      "Epoch: 81 cost = 439.72726\n",
      "Running\n",
      "Epoch: 91 cost = 278.36447\n",
      "Running\n",
      "Epoch: 101 cost = 270.08038\n",
      "Running\n",
      "Epoch: 111 cost = 350.15838\n",
      "Running\n",
      "Epoch: 121 cost = 96.55537\n",
      "Running\n",
      "Epoch: 131 cost = 175.65522\n",
      "Running\n",
      "Epoch: 141 cost = 417.31121\n",
      "Running\n",
      "Epoch: 151 cost = 178.73063\n",
      "Running\n",
      "Epoch: 161 cost = 105.64960\n",
      "Running\n",
      "Epoch: 171 cost = 206.19646\n",
      "Running\n",
      "Epoch: 181 cost = 407.92290\n",
      "Running\n",
      "Epoch: 191 cost = 476.20542\n",
      "Running\n",
      "Epoch: 201 cost = 198.92319\n",
      "Running\n",
      "Epoch: 211 cost = 0.00000\n",
      "Running\n",
      "Epoch: 221 cost = 0.00000\n",
      "Running\n",
      "Epoch: 231 cost = 0.00000\n",
      "Running\n",
      "Epoch: 241 cost = 0.00000\n",
      "Running\n",
      "Epoch: 251 cost = 0.00000\n",
      "Running\n",
      "Epoch: 261 cost = 0.00000\n",
      "Running\n",
      "Epoch: 271 cost = 0.00000\n",
      "Running\n",
      "Epoch: 281 cost = 0.00000\n",
      "Running\n",
      "Epoch: 291 cost = 0.00000\n",
      "Running\n",
      "Epoch: 301 cost = 0.00000\n",
      "Running\n",
      "Epoch: 311 cost = 0.00000\n",
      "Running\n",
      "Epoch: 321 cost = 0.00000\n",
      "Running\n",
      "Epoch: 331 cost = 0.00000\n",
      "Running\n",
      "Epoch: 341 cost = 0.00000\n",
      "Running\n",
      "Epoch: 351 cost = 0.00000\n",
      "Running\n",
      "Epoch: 361 cost = 0.00000\n",
      "Running\n",
      "Epoch: 371 cost = 0.00000\n",
      "Running\n",
      "Epoch: 381 cost = 0.00000\n",
      "Running\n",
      "Epoch: 391 cost = 0.00000\n",
      "Running\n",
      "Epoch: 401 cost = 0.00000\n",
      "Running\n",
      "Epoch: 411 cost = 0.00000\n",
      "Running\n",
      "Epoch: 421 cost = 0.00000\n",
      "Running\n",
      "Epoch: 431 cost = 0.00000\n",
      "Running\n",
      "Epoch: 441 cost = 0.00000\n",
      "Running\n",
      "Epoch: 451 cost = 0.00000\n",
      "Running\n",
      "Epoch: 461 cost = 0.00000\n",
      "Running\n",
      "Epoch: 471 cost = 0.00000\n",
      "Running\n",
      "Epoch: 481 cost = 0.00000\n",
      "Running\n",
      "Epoch: 491 cost = 0.00000\n",
      "Running\n",
      "Epoch: 501 cost = 0.00000\n",
      "Running\n",
      "Epoch: 511 cost = 0.00000\n",
      "Running\n",
      "Epoch: 521 cost = 0.00000\n",
      "Running\n",
      "Epoch: 531 cost = 0.00000\n",
      "Running\n",
      "Epoch: 541 cost = 0.00000\n",
      "Running\n",
      "Epoch: 551 cost = 0.00000\n",
      "Running\n",
      "Epoch: 561 cost = 0.00000\n",
      "Running\n",
      "Epoch: 571 cost = 0.00000\n",
      "Running\n",
      "Epoch: 581 cost = 0.00000\n",
      "Running\n",
      "Epoch: 591 cost = 0.00000\n",
      "Running\n",
      "Epoch: 601 cost = 0.00000\n",
      "Running\n",
      "Epoch: 611 cost = 0.00000\n",
      "Running\n",
      "Epoch: 621 cost = 0.00000\n",
      "Running\n",
      "Epoch: 631 cost = 0.00000\n",
      "Running\n",
      "Epoch: 641 cost = 0.00000\n",
      "Running\n",
      "Epoch: 651 cost = 0.00000\n",
      "Running\n",
      "Epoch: 661 cost = 0.00000\n",
      "Running\n",
      "Epoch: 671 cost = 0.00000\n",
      "Running\n",
      "Epoch: 681 cost = 0.00000\n",
      "Running\n",
      "Epoch: 691 cost = 0.00000\n",
      "Running\n",
      "Epoch: 701 cost = 0.00000\n",
      "Running\n",
      "Epoch: 711 cost = 0.00000\n",
      "Running\n",
      "Epoch: 721 cost = 0.00000\n",
      "Running\n",
      "Epoch: 731 cost = 0.00000\n",
      "Running\n",
      "Epoch: 741 cost = 0.00000\n",
      "Running\n",
      "Epoch: 751 cost = 0.00000\n",
      "Running\n",
      "Epoch: 761 cost = 0.00000\n",
      "Running\n",
      "Epoch: 771 cost = 0.00000\n",
      "Running\n",
      "Epoch: 781 cost = 0.00000\n",
      "Running\n",
      "Epoch: 791 cost = 0.00000\n",
      "\n",
      "Training complete!\n",
      "Validation Accuracy: 0.979944\n"
     ]
    }
   ],
   "source": [
    "with tf.Session() as sess:\n",
    "    # create initialized variables\n",
    "    sess.run(init)\n",
    "    \n",
    "    ### for each epoch, do:\n",
    "    ###   for each batch, do:\n",
    "    ###     create pre-processed batch\n",
    "    ###     run optimizer by feeding batch\n",
    "    ###     find cost and reiterate to minimize\n",
    "    \n",
    "    for epoch in range(epochs):\n",
    "        avg_cost = 0\n",
    "        total_batch = int(len(train_x)/batch_size)\n",
    "        if epoch % 10 == 0:\n",
    "            print('Running')\n",
    "        for i in range(total_batch):\n",
    "            _, c = sess.run([optimizer, cost], feed_dict = {x: train_x[(i)*batch_size:(i+1)*batch_size,:], y: dense_to_one_hot(train_y[(i)*batch_size:(i+1)*batch_size])})\n",
    "            avg_cost += c / total_batch\n",
    "        \n",
    "        if epoch % 10 == 0:\n",
    "            print (\"Epoch:\", (epoch+1), \"cost =\", \"{:.5f}\".format(avg_cost))\n",
    "    \n",
    "    print (\"\\nTraining complete!\")\n",
    "    \n",
    "    \n",
    "    # find predictions on val set\n",
    "    pred_temp = tf.equal(tf.argmax(output_layer, 1), tf.argmax(y, 1))\n",
    "    accuracy = tf.reduce_mean(tf.cast(pred_temp, \"float\"))\n",
    "    print (\"Validation Accuracy:\", accuracy.eval({x: val_x.reshape(-1, input_num_units), y: dense_to_one_hot(val_y)}))\n",
    "    \n",
    "    predict = tf.argmax(output_layer, 1)\n",
    "    pred = predict.eval({x: X_test.reshape(-1, input_num_units)})"
   ]
  },
  {
   "cell_type": "code",
   "execution_count": 139,
   "metadata": {},
   "outputs": [
    {
     "name": "stdout",
     "output_type": "stream",
     "text": [
      "Prediction is:  7\n"
     ]
    },
    {
     "data": {
      "image/png": "[encoded data removed]",
      "text/plain": [
       "<matplotlib.figure.Figure at 0x7f8ccda6c5f8>"
      ]
     },
     "metadata": {},
     "output_type": "display_data"
    },
    {
     "name": "stdout",
     "output_type": "stream",
     "text": [
      "Prediction is:  2\n"
     ]
    },
    {
     "data": {
      "image/png": "[encoded data removed]",
      "text/plain": [
       "<matplotlib.figure.Figure at 0x7f8ccdb8e7b8>"
      ]
     },
     "metadata": {},
     "output_type": "display_data"
    },
    {
     "name": "stdout",
     "output_type": "stream",
     "text": [
      "Prediction is:  1\n"
     ]
    },
    {
     "data": {
      "image/png": "[encoded data removed]",
      "text/plain": [
       "<matplotlib.figure.Figure at 0x7f8ccd6becc0>"
      ]
     },
     "metadata": {},
     "output_type": "display_data"
    }
   ],
   "source": [
    "#97.772\n",
    "%matplotlib inline\n",
    "from PIL import Image\n",
    "import pylab\n",
    "\n",
    "for i in range(3):\n",
    "    arr = X_test[i,:].reshape(-1,28)\n",
    "\n",
    "    test_index = i\n",
    "\n",
    "    print (\"Prediction is: \", pred[test_index])\n",
    "\n",
    "    show(arr)"
   ]
  },
  {
   "cell_type": "code",
   "execution_count": 142,
   "metadata": {},
   "outputs": [
    {
     "name": "stdout",
     "output_type": "stream",
     "text": [
      "Prediction is:  6 \n",
      "Actual is:  4\n"
     ]
    },
    {
     "data": {
      "image/png": "[encoded data removed]",
      "text/plain": [
       "<matplotlib.figure.Figure at 0x7f8cccf57b38>"
      ]
     },
     "metadata": {},
     "output_type": "display_data"
    },
    {
     "name": "stdout",
     "output_type": "stream",
     "text": [
      "Prediction is:  7 \n",
      "Actual is:  2\n"
     ]
    },
    {
     "data": {
      "image/png": "[encoded data removed]",
      "text/plain": [
       "<matplotlib.figure.Figure at 0x7f8cccedf320>"
      ]
     },
     "metadata": {},
     "output_type": "display_data"
    },
    {
     "name": "stdout",
     "output_type": "stream",
     "text": [
      "Prediction is:  3 \n",
      "Actual is:  5\n"
     ]
    },
    {
     "data": {
      "image/png": "[encoded data removed]",
      "text/plain": [
       "<matplotlib.figure.Figure at 0x7f8ccce6fb00>"
      ]
     },
     "metadata": {},
     "output_type": "display_data"
    },
    {
     "name": "stdout",
     "output_type": "stream",
     "text": [
      "Prediction is:  0 \n",
      "Actual is:  6\n"
     ]
    },
    {
     "data": {
      "image/png": "[encoded data removed]",
      "text/plain": [
       "<matplotlib.figure.Figure at 0x7f8ccce52d30>"
      ]
     },
     "metadata": {},
     "output_type": "display_data"
    },
    {
     "name": "stdout",
     "output_type": "stream",
     "text": [
      "Prediction is:  9 \n",
      "Actual is:  4\n"
     ]
    },
    {
     "data": {
      "image/png": "[encoded data removed]",
      "text/plain": [
       "<matplotlib.figure.Figure at 0x7f8ccd087668>"
      ]
     },
     "metadata": {},
     "output_type": "display_data"
    },
    {
     "name": "stdout",
     "output_type": "stream",
     "text": [
      "Prediction is:  2 \n",
      "Actual is:  8\n"
     ]
    },
    {
     "data": {
      "image/png": "[encoded data removed]",
      "text/plain": [
       "<matplotlib.figure.Figure at 0x7f8ccda172b0>"
      ]
     },
     "metadata": {},
     "output_type": "display_data"
    },
    {
     "name": "stdout",
     "output_type": "stream",
     "text": [
      "Prediction is:  3 \n",
      "Actual is:  7\n"
     ]
    },
    {
     "data": {
      "image/png": "[encoded data removed]",
      "text/plain": [
       "<matplotlib.figure.Figure at 0x7f8ff8125c88>"
      ]
     },
     "metadata": {},
     "output_type": "display_data"
    },
    {
     "name": "stdout",
     "output_type": "stream",
     "text": [
      "Prediction is:  2 \n",
      "Actual is:  8\n"
     ]
    },
    {
     "data": {
      "image/png": "[encoded data removed]",
      "text/plain": [
       "<matplotlib.figure.Figure at 0x7f8cccf57c88>"
      ]
     },
     "metadata": {},
     "output_type": "display_data"
    },
    {
     "name": "stdout",
     "output_type": "stream",
     "text": [
      "Prediction is:  8 \n",
      "Actual is:  1\n"
     ]
    },
    {
     "data": {
      "image/png": "[encoded data removed]",
      "text/plain": [
       "<matplotlib.figure.Figure at 0x7f8ccda39c50>"
      ]
     },
     "metadata": {},
     "output_type": "display_data"
    },
    {
     "name": "stdout",
     "output_type": "stream",
     "text": [
      "Prediction is:  6 \n",
      "Actual is:  2\n"
     ]
    },
    {
     "data": {
      "image/png": "[encoded data removed]",
      "text/plain": [
       "<matplotlib.figure.Figure at 0x7f8cccf45048>"
      ]
     },
     "metadata": {},
     "output_type": "display_data"
    },
    {
     "name": "stdout",
     "output_type": "stream",
     "text": [
      "Prediction is:  4 \n",
      "Actual is:  8\n"
     ]
    },
    {
     "data": {
      "image/png": "[encoded data removed]",
      "text/plain": [
       "<matplotlib.figure.Figure at 0x7f8ccda3d160>"
      ]
     },
     "metadata": {},
     "output_type": "display_data"
    },
    {
     "name": "stdout",
     "output_type": "stream",
     "text": [
      "Prediction is:  9 \n",
      "Actual is:  4\n"
     ]
    },
    {
     "data": {
      "image/png": "[encoded data removed]",
      "text/plain": [
       "<matplotlib.figure.Figure at 0x7f8ccd066cf8>"
      ]
     },
     "metadata": {},
     "output_type": "display_data"
    },
    {
     "name": "stdout",
     "output_type": "stream",
     "text": [
      "Prediction is:  8 \n",
      "Actual is:  5\n"
     ]
    },
    {
     "data": {
      "image/png": "[encoded data removed]",
      "text/plain": [
       "<matplotlib.figure.Figure at 0x7f8ccd4e3e10>"
      ]
     },
     "metadata": {},
     "output_type": "display_data"
    },
    {
     "name": "stdout",
     "output_type": "stream",
     "text": [
      "Prediction is:  7 \n",
      "Actual is:  9\n"
     ]
    },
    {
     "data": {
      "image/png": "[encoded data removed]",
      "text/plain": [
       "<matplotlib.figure.Figure at 0x7f8ccd0ddfd0>"
      ]
     },
     "metadata": {},
     "output_type": "display_data"
    },
    {
     "name": "stdout",
     "output_type": "stream",
     "text": [
      "Prediction is:  5 \n",
      "Actual is:  1\n"
     ]
    },
    {
     "data": {
      "image/png": "[encoded data removed]",
      "text/plain": [
       "<matplotlib.figure.Figure at 0x7f8ccd0a5630>"
      ]
     },
     "metadata": {},
     "output_type": "display_data"
    },
    {
     "name": "stdout",
     "output_type": "stream",
     "text": [
      "Prediction is:  9 \n",
      "Actual is:  8\n"
     ]
    },
    {
     "data": {
      "image/png": "[encoded data removed]",
      "text/plain": [
       "<matplotlib.figure.Figure at 0x7f8ccd6bacf8>"
      ]
     },
     "metadata": {},
     "output_type": "display_data"
    },
    {
     "name": "stdout",
     "output_type": "stream",
     "text": [
      "Prediction is:  4 \n",
      "Actual is:  5\n"
     ]
    },
    {
     "data": {
      "image/png": "[encoded data removed]",
      "text/plain": [
       "<matplotlib.figure.Figure at 0x7f8ccd0645f8>"
      ]
     },
     "metadata": {},
     "output_type": "display_data"
    },
    {
     "name": "stdout",
     "output_type": "stream",
     "text": [
      "Prediction is:  5 \n",
      "Actual is:  6\n"
     ]
    },
    {
     "data": {
      "image/png": "[encoded data removed]",
      "text/plain": [
       "<matplotlib.figure.Figure at 0x7f8ccd6ef240>"
      ]
     },
     "metadata": {},
     "output_type": "display_data"
    },
    {
     "name": "stdout",
     "output_type": "stream",
     "text": [
      "Prediction is:  2 \n",
      "Actual is:  7\n"
     ]
    },
    {
     "data": {
      "image/png": "[encoded data removed]",
      "text/plain": [
       "<matplotlib.figure.Figure at 0x7f8ccd2499e8>"
      ]
     },
     "metadata": {},
     "output_type": "display_data"
    },
    {
     "name": "stdout",
     "output_type": "stream",
     "text": [
      "Prediction is:  6 \n",
      "Actual is:  4\n"
     ]
    },
    {
     "data": {
      "image/png": "[encoded data removed]",
      "text/plain": [
       "<matplotlib.figure.Figure at 0x7f8ccd703f60>"
      ]
     },
     "metadata": {},
     "output_type": "display_data"
    }
   ],
   "source": [
    "for i in range(20):\n",
    "    mask = pred != y_test\n",
    "    \n",
    "    arr = X_test[mask][i,:].reshape(-1,28)\n",
    "\n",
    "    test_index = i\n",
    "\n",
    "    print (\"Prediction is: \", pred[mask][test_index], '\\nActual is: ', y_test[mask][test_index])\n",
    "\n",
    "    show(arr)"
   ]
  },
  {
   "cell_type": "code",
   "execution_count": null,
   "metadata": {},
   "outputs": [],
   "source": []
  }
 ],
 "metadata": {
  "kernelspec": {
   "display_name": "Python 3",
   "language": "python",
   "name": "python3"
  },
  "language_info": {
   "codemirror_mode": {
    "name": "ipython",
    "version": 3
   },
   "file_extension": ".py",
   "mimetype": "text/x-python",
   "name": "python",
   "nbconvert_exporter": "python",
   "pygments_lexer": "ipython3",
   "version": "3.6.0"
  }
 },
 "nbformat": 4,
 "nbformat_minor": 2
}
